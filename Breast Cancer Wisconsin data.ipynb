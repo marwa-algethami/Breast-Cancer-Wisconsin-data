{
 "cells": [
  {
   "cell_type": "code",
   "execution_count": 3,
   "metadata": {},
   "outputs": [
    {
     "ename": "SyntaxError",
     "evalue": "invalid syntax (<ipython-input-3-6a0b4f104c53>, line 1)",
     "output_type": "error",
     "traceback": [
      "\u001b[0;36m  File \u001b[0;32m\"<ipython-input-3-6a0b4f104c53>\"\u001b[0;36m, line \u001b[0;32m1\u001b[0m\n\u001b[0;31m    @inproceedings{nr,\u001b[0m\n\u001b[0m                  ^\u001b[0m\n\u001b[0;31mSyntaxError\u001b[0m\u001b[0;31m:\u001b[0m invalid syntax\n"
     ]
    }
   ],
   "source": [
    "@inproceedings{nr,\n",
    "     title={The Network Data Repository with Interactive Graph Analytics and Visualization},\n",
    "     author={Ryan A. Rossi and Nesreen K. Ahmed},\n",
    "     booktitle={AAAI},\n",
    "     url={http://networkrepository.com},\n",
    "     year={2015}\n",
    "}\n"
   ]
  },
  {
   "cell_type": "code",
   "execution_count": 4,
   "metadata": {
    "scrolled": true
   },
   "outputs": [
    {
     "data": {
      "text/html": [
       "<div>\n",
       "<style scoped>\n",
       "    .dataframe tbody tr th:only-of-type {\n",
       "        vertical-align: middle;\n",
       "    }\n",
       "\n",
       "    .dataframe tbody tr th {\n",
       "        vertical-align: top;\n",
       "    }\n",
       "\n",
       "    .dataframe thead th {\n",
       "        text-align: right;\n",
       "    }\n",
       "</style>\n",
       "<table border=\"1\" class=\"dataframe\">\n",
       "  <thead>\n",
       "    <tr style=\"text-align: right;\">\n",
       "      <th></th>\n",
       "      <th>%id</th>\n",
       "      <th>diagnosis (M=malignant; B=benign)</th>\n",
       "      <th>radius (nucA)</th>\n",
       "      <th>texture (nucA)</th>\n",
       "      <th>perimeter (nucA)</th>\n",
       "      <th>area (nucA)</th>\n",
       "      <th>smoothness (nucA)</th>\n",
       "      <th>compactness (nucA)</th>\n",
       "      <th>concavity (nucA)</th>\n",
       "      <th>concave points (nucA)</th>\n",
       "      <th>...</th>\n",
       "      <th>radius (nucC)</th>\n",
       "      <th>texture (nucC)</th>\n",
       "      <th>perimeter (nucC)</th>\n",
       "      <th>area (nucC)</th>\n",
       "      <th>smoothness (nucC)</th>\n",
       "      <th>compactness (nucC)</th>\n",
       "      <th>concavity (nucC)</th>\n",
       "      <th>concave points (nucC)</th>\n",
       "      <th>symmetry (nucC)</th>\n",
       "      <th>fractal dimension (nucC)</th>\n",
       "    </tr>\n",
       "  </thead>\n",
       "  <tbody>\n",
       "    <tr>\n",
       "      <th>0</th>\n",
       "      <td>842302</td>\n",
       "      <td>M</td>\n",
       "      <td>17.99</td>\n",
       "      <td>10.38</td>\n",
       "      <td>122.80</td>\n",
       "      <td>1001.0</td>\n",
       "      <td>0.11840</td>\n",
       "      <td>0.27760</td>\n",
       "      <td>0.3001</td>\n",
       "      <td>0.14710</td>\n",
       "      <td>...</td>\n",
       "      <td>25.38</td>\n",
       "      <td>17.33</td>\n",
       "      <td>184.60</td>\n",
       "      <td>2019.0</td>\n",
       "      <td>0.1622</td>\n",
       "      <td>0.6656</td>\n",
       "      <td>0.7119</td>\n",
       "      <td>0.2654</td>\n",
       "      <td>0.4601</td>\n",
       "      <td>0.11890</td>\n",
       "    </tr>\n",
       "    <tr>\n",
       "      <th>1</th>\n",
       "      <td>842517</td>\n",
       "      <td>M</td>\n",
       "      <td>20.57</td>\n",
       "      <td>17.77</td>\n",
       "      <td>132.90</td>\n",
       "      <td>1326.0</td>\n",
       "      <td>0.08474</td>\n",
       "      <td>0.07864</td>\n",
       "      <td>0.0869</td>\n",
       "      <td>0.07017</td>\n",
       "      <td>...</td>\n",
       "      <td>24.99</td>\n",
       "      <td>23.41</td>\n",
       "      <td>158.80</td>\n",
       "      <td>1956.0</td>\n",
       "      <td>0.1238</td>\n",
       "      <td>0.1866</td>\n",
       "      <td>0.2416</td>\n",
       "      <td>0.1860</td>\n",
       "      <td>0.2750</td>\n",
       "      <td>0.08902</td>\n",
       "    </tr>\n",
       "    <tr>\n",
       "      <th>2</th>\n",
       "      <td>84300903</td>\n",
       "      <td>M</td>\n",
       "      <td>19.69</td>\n",
       "      <td>21.25</td>\n",
       "      <td>130.00</td>\n",
       "      <td>1203.0</td>\n",
       "      <td>0.10960</td>\n",
       "      <td>0.15990</td>\n",
       "      <td>0.1974</td>\n",
       "      <td>0.12790</td>\n",
       "      <td>...</td>\n",
       "      <td>23.57</td>\n",
       "      <td>25.53</td>\n",
       "      <td>152.50</td>\n",
       "      <td>1709.0</td>\n",
       "      <td>0.1444</td>\n",
       "      <td>0.4245</td>\n",
       "      <td>0.4504</td>\n",
       "      <td>0.2430</td>\n",
       "      <td>0.3613</td>\n",
       "      <td>0.08758</td>\n",
       "    </tr>\n",
       "    <tr>\n",
       "      <th>3</th>\n",
       "      <td>84348301</td>\n",
       "      <td>M</td>\n",
       "      <td>11.42</td>\n",
       "      <td>20.38</td>\n",
       "      <td>77.58</td>\n",
       "      <td>386.1</td>\n",
       "      <td>0.14250</td>\n",
       "      <td>0.28390</td>\n",
       "      <td>0.2414</td>\n",
       "      <td>0.10520</td>\n",
       "      <td>...</td>\n",
       "      <td>14.91</td>\n",
       "      <td>26.50</td>\n",
       "      <td>98.87</td>\n",
       "      <td>567.7</td>\n",
       "      <td>0.2098</td>\n",
       "      <td>0.8663</td>\n",
       "      <td>0.6869</td>\n",
       "      <td>0.2575</td>\n",
       "      <td>0.6638</td>\n",
       "      <td>0.17300</td>\n",
       "    </tr>\n",
       "    <tr>\n",
       "      <th>4</th>\n",
       "      <td>84358402</td>\n",
       "      <td>M</td>\n",
       "      <td>20.29</td>\n",
       "      <td>14.34</td>\n",
       "      <td>135.10</td>\n",
       "      <td>1297.0</td>\n",
       "      <td>0.10030</td>\n",
       "      <td>0.13280</td>\n",
       "      <td>0.1980</td>\n",
       "      <td>0.10430</td>\n",
       "      <td>...</td>\n",
       "      <td>22.54</td>\n",
       "      <td>16.67</td>\n",
       "      <td>152.20</td>\n",
       "      <td>1575.0</td>\n",
       "      <td>0.1374</td>\n",
       "      <td>0.2050</td>\n",
       "      <td>0.4000</td>\n",
       "      <td>0.1625</td>\n",
       "      <td>0.2364</td>\n",
       "      <td>0.07678</td>\n",
       "    </tr>\n",
       "  </tbody>\n",
       "</table>\n",
       "<p>5 rows × 32 columns</p>\n",
       "</div>"
      ],
      "text/plain": [
       "        %id diagnosis (M=malignant; B=benign)  radius (nucA)  texture (nucA)  \\\n",
       "0    842302                                 M          17.99           10.38   \n",
       "1    842517                                 M          20.57           17.77   \n",
       "2  84300903                                 M          19.69           21.25   \n",
       "3  84348301                                 M          11.42           20.38   \n",
       "4  84358402                                 M          20.29           14.34   \n",
       "\n",
       "   perimeter (nucA)  area (nucA)  smoothness (nucA)  compactness (nucA)  \\\n",
       "0            122.80       1001.0            0.11840             0.27760   \n",
       "1            132.90       1326.0            0.08474             0.07864   \n",
       "2            130.00       1203.0            0.10960             0.15990   \n",
       "3             77.58        386.1            0.14250             0.28390   \n",
       "4            135.10       1297.0            0.10030             0.13280   \n",
       "\n",
       "   concavity (nucA)  concave points (nucA)  ...  radius (nucC)  \\\n",
       "0            0.3001                0.14710  ...          25.38   \n",
       "1            0.0869                0.07017  ...          24.99   \n",
       "2            0.1974                0.12790  ...          23.57   \n",
       "3            0.2414                0.10520  ...          14.91   \n",
       "4            0.1980                0.10430  ...          22.54   \n",
       "\n",
       "   texture (nucC)  perimeter (nucC)  area (nucC)  smoothness (nucC)  \\\n",
       "0           17.33            184.60       2019.0             0.1622   \n",
       "1           23.41            158.80       1956.0             0.1238   \n",
       "2           25.53            152.50       1709.0             0.1444   \n",
       "3           26.50             98.87        567.7             0.2098   \n",
       "4           16.67            152.20       1575.0             0.1374   \n",
       "\n",
       "   compactness (nucC)  concavity (nucC)  concave points (nucC)  \\\n",
       "0              0.6656            0.7119                 0.2654   \n",
       "1              0.1866            0.2416                 0.1860   \n",
       "2              0.4245            0.4504                 0.2430   \n",
       "3              0.8663            0.6869                 0.2575   \n",
       "4              0.2050            0.4000                 0.1625   \n",
       "\n",
       "   symmetry (nucC)  fractal dimension (nucC)  \n",
       "0           0.4601                   0.11890  \n",
       "1           0.2750                   0.08902  \n",
       "2           0.3613                   0.08758  \n",
       "3           0.6638                   0.17300  \n",
       "4           0.2364                   0.07678  \n",
       "\n",
       "[5 rows x 32 columns]"
      ]
     },
     "execution_count": 4,
     "metadata": {},
     "output_type": "execute_result"
    }
   ],
   "source": [
    "import pandas as pd \n",
    "wdbc_data = pd.read_csv('breast-cancer-wisconsin_wdbc.csv',sep=',')\n",
    "wdbc_data.head()"
   ]
  },
  {
   "cell_type": "code",
   "execution_count": 5,
   "metadata": {},
   "outputs": [
    {
     "data": {
      "text/plain": [
       "Index(['%id', 'diagnosis (M=malignant; B=benign)', 'radius (nucA)',\n",
       "       'texture (nucA)', 'perimeter (nucA)', 'area (nucA)',\n",
       "       'smoothness (nucA)', 'compactness (nucA)', 'concavity (nucA)',\n",
       "       'concave points (nucA)', 'symmetry (nucA)', 'fractal dimension (nucA)',\n",
       "       'radius (nucB)', 'texture (nucB)', 'perimeter (nucB)', 'area (nucB)',\n",
       "       'smoothness (nucB)', 'compactness (nucB)', 'concavity (nucB)',\n",
       "       'concave points (nucB)', 'symmetry (nucB)', 'fractal dimension (nucB)',\n",
       "       'radius (nucC)', 'texture (nucC)', 'perimeter (nucC)', 'area (nucC)',\n",
       "       'smoothness (nucC)', 'compactness (nucC)', 'concavity (nucC)',\n",
       "       'concave points (nucC)', 'symmetry (nucC)', 'fractal dimension (nucC)'],\n",
       "      dtype='object')"
      ]
     },
     "execution_count": 5,
     "metadata": {},
     "output_type": "execute_result"
    }
   ],
   "source": [
    "wdbc_data.columns"
   ]
  },
  {
   "cell_type": "code",
   "execution_count": 6,
   "metadata": {},
   "outputs": [
    {
     "data": {
      "text/plain": [
       "B    357\n",
       "M    212\n",
       "Name: diagnosis (M=malignant; B=benign), dtype: int64"
      ]
     },
     "execution_count": 6,
     "metadata": {},
     "output_type": "execute_result"
    }
   ],
   "source": [
    "wdbc_data['diagnosis (M=malignant; B=benign)'].value_counts()"
   ]
  },
  {
   "cell_type": "code",
   "execution_count": 7,
   "metadata": {},
   "outputs": [],
   "source": [
    "wdbc_data['diagnosis (M=malignant; B=benign)']=wdbc_data['diagnosis (M=malignant; B=benign)'].replace('M',1 )\n",
    "wdbc_data['diagnosis (M=malignant; B=benign)']=wdbc_data['diagnosis (M=malignant; B=benign)'].replace('B', 0)\n",
    "y = wdbc_data['diagnosis (M=malignant; B=benign)']\n",
    "X = wdbc_data.iloc[0:, 2:32]\n"
   ]
  },
  {
   "cell_type": "code",
   "execution_count": 8,
   "metadata": {},
   "outputs": [],
   "source": [
    "from sklearn.model_selection import train_test_split\n",
    "\n",
    "y_train,y_test,X_train,X_test = train_test_split(y,X,test_size = .2)"
   ]
  },
  {
   "cell_type": "code",
   "execution_count": 9,
   "metadata": {},
   "outputs": [
    {
     "name": "stderr",
     "output_type": "stream",
     "text": [
      "/anaconda3/lib/python3.7/site-packages/sklearn/linear_model/logistic.py:433: FutureWarning: Default solver will be changed to 'lbfgs' in 0.22. Specify a solver to silence this warning.\n",
      "  FutureWarning)\n"
     ]
    },
    {
     "data": {
      "text/plain": [
       "LogisticRegression(C=1.0, class_weight=None, dual=False, fit_intercept=True,\n",
       "          intercept_scaling=1, max_iter=100, multi_class='warn',\n",
       "          n_jobs=None, penalty='l2', random_state=None, solver='warn',\n",
       "          tol=0.0001, verbose=0, warm_start=False)"
      ]
     },
     "execution_count": 9,
     "metadata": {},
     "output_type": "execute_result"
    }
   ],
   "source": [
    "from sklearn.linear_model import LogisticRegression\n",
    "logist_model=LogisticRegression()\n",
    "logist_model.fit(X_train,y_train)"
   ]
  },
  {
   "cell_type": "code",
   "execution_count": 10,
   "metadata": {},
   "outputs": [
    {
     "data": {
      "text/plain": [
       "array([[-2.02202989e+00, -1.20036589e-01, -8.54285263e-02,\n",
       "         6.88472358e-03,  1.31419495e-01,  3.72949215e-01,\n",
       "         6.42409412e-01,  3.35381593e-01,  1.68456702e-01,\n",
       "         2.48284221e-02, -5.23359335e-03, -5.14614513e-01,\n",
       "        -1.27510894e-01,  7.75215717e-02,  2.21963225e-02,\n",
       "         1.65593640e-02,  8.57152551e-02,  4.48810053e-02,\n",
       "         4.94572602e-02, -1.10297735e-03, -1.08537797e+00,\n",
       "         2.94401269e-01,  2.09496817e-01,  2.45022892e-02,\n",
       "         2.45635570e-01,  8.71955467e-01,  1.42093292e+00,\n",
       "         5.93979757e-01,  4.81711716e-01,  9.17283027e-02]])"
      ]
     },
     "execution_count": 10,
     "metadata": {},
     "output_type": "execute_result"
    }
   ],
   "source": [
    "logist_model.coef_\n"
   ]
  },
  {
   "cell_type": "code",
   "execution_count": 11,
   "metadata": {},
   "outputs": [
    {
     "data": {
      "text/plain": [
       "(<Figure size 432x288 with 1 Axes>,\n",
       " <matplotlib.axes._subplots.AxesSubplot at 0x1a1e2e6b00>)"
      ]
     },
     "execution_count": 11,
     "metadata": {},
     "output_type": "execute_result"
    },
    {
     "data": {
      "image/png": "[encoded data removed]",
      "text/plain": [
       "<Figure size 432x288 with 1 Axes>"
      ]
     },
     "metadata": {
      "needs_background": "light"
     },
     "output_type": "display_data"
    }
   ],
   "source": [
    "from sklearn import metrics\n",
    "from mlxtend.plotting import plot_confusion_matrix\n",
    "y_pred=logist_model.predict(X_test)\n",
    "cm = metrics.confusion_matrix(y_test, y_pred)\n",
    "plot_confusion_matrix(cm)"
   ]
  },
  {
   "cell_type": "code",
   "execution_count": 12,
   "metadata": {},
   "outputs": [
    {
     "name": "stdout",
     "output_type": "stream",
     "text": [
      "Accuracy: 0.9298245614035088\n",
      "Precision: 0.8703703703703703\n"
     ]
    }
   ],
   "source": [
    "print(\"Accuracy:\",metrics.accuracy_score(y_test, y_pred))\n",
    "print(\"Precision:\",metrics.precision_score(y_test, y_pred))\n"
   ]
  },
  {
   "cell_type": "code",
   "execution_count": null,
   "metadata": {},
   "outputs": [],
   "source": []
  }
 ],
 "metadata": {
  "kernelspec": {
   "display_name": "Python 3",
   "language": "python",
   "name": "python3"
  },
  "language_info": {
   "codemirror_mode": {
    "name": "ipython",
    "version": 3
   },
   "file_extension": ".py",
   "mimetype": "text/x-python",
   "name": "python",
   "nbconvert_exporter": "python",
   "pygments_lexer": "ipython3",
   "version": "3.7.3"
  }
 },
 "nbformat": 4,
 "nbformat_minor": 2
}
